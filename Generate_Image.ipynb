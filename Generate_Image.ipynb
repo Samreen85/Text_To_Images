{
 "cells": [
  {
   "cell_type": "code",
   "execution_count": null,
   "metadata": {},
   "outputs": [],
   "source": [
    "# Generate image from description using model DALL-E3 using OPEN AI key. For more details see Open ai documentation of images.\n",
    "from openai import OpenAI\n",
    "client = OpenAI()\n",
    "\n",
    "response = client.images.generate(\n",
    "  model=\"dall-e-3\",\n",
    "  prompt=\"a white siamese cat\",\n",
    "  size=\"1024x1024\",\n",
    "  quality=\"standard\",\n",
    "  n=1,\n",
    ")\n",
    "\n",
    "image_url = response.data[0].url\n",
    "print(image_url)"
   ]
  },
  {
   "cell_type": "code",
   "execution_count": null,
   "metadata": {},
   "outputs": [],
   "source": [
    "# Generate mask of the original image \n",
    "from PIL import Image, ImageDraw\n",
    "# Load the original image to better determine the position of the house\n",
    "original_image_path = \"./Images/original.jpg\"\n",
    "original_image = Image.open(original_image_path)\n",
    "\n",
    "# Create a new mask with the same size as the original image\n",
    "mask = Image.new(\"L\", original_image.size, 0)  # Black background\n",
    "\n",
    "# Define the approximate position of the house area and draw it in white\n",
    "draw = ImageDraw.Draw(mask)\n",
    "house_area = [400, 550, 620, 720]  # Adjusted rectangle to cover the house area\n",
    "draw.rectangle(house_area, fill=255)\n",
    "\n",
    "# Save the updated mask\n",
    "mask_path_house = \"./Images/mask.jpg\"\n",
    "mask.save(mask_path_house)"
   ]
  },
  {
   "cell_type": "code",
   "execution_count": null,
   "metadata": {},
   "outputs": [],
   "source": [
    "# Edit an image by uploading the image and mask(mark the aread which you want to edit adn in prompt provide in detail what you want to edit.)\n",
    "from openai import OpenAI\n",
    "client = OpenAI()\n",
    "\n",
    "response = client.images.edit(\n",
    "  model=\"dall-e-2\",\n",
    "  image=open(\"./Images/original.PNG\", \"rb\"),\n",
    "  mask=open(\"./Images/mask.PNG\", \"rb\"),\n",
    "  prompt=\"I want to edit the original image i marked the area which i want to edit i want the lady dress which I marked full cover up to neck.\",\n",
    "  n=1,\n",
    "  size=\"1024x1024\"\n",
    ")\n",
    "image_url = response.data[0].url\n",
    "print(image_url)"
   ]
  }
 ],
 "metadata": {
  "kernelspec": {
   "display_name": "Python 3",
   "language": "python",
   "name": "python3"
  },
  "language_info": {
   "codemirror_mode": {
    "name": "ipython",
    "version": 3
   },
   "file_extension": ".py",
   "mimetype": "text/x-python",
   "name": "python",
   "nbconvert_exporter": "python",
   "pygments_lexer": "ipython3",
   "version": "3.11.9"
  }
 },
 "nbformat": 4,
 "nbformat_minor": 2
}
